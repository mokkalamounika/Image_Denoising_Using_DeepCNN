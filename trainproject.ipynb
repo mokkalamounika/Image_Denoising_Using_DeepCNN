{
  "nbformat": 4,
  "nbformat_minor": 0,
  "metadata": {
    "colab": {
      "name": "trainproject.ipynb",
      "provenance": []
    },
    "kernelspec": {
      "name": "python3",
      "display_name": "Python 3"
    },
    "language_info": {
      "name": "python"
    }
  },
  "cells": [
    {
      "cell_type": "code",
      "metadata": {
        "id": "wuBLS1F5Hdly",
        "colab": {
          "base_uri": "https://localhost:8080/"
        },
        "outputId": "3a87cdf2-ee92-4fca-d190-1b6eeb08119d"
      },
      "source": [
        "from google.colab import drive\n",
        "drive.mount('/content/drive',force_remount=True)"
      ],
      "execution_count": 1,
      "outputs": [
        {
          "output_type": "stream",
          "text": [
            "Mounted at /content/drive\n"
          ],
          "name": "stdout"
        }
      ]
    },
    {
      "cell_type": "code",
      "metadata": {
        "colab": {
          "base_uri": "https://localhost:8080/"
        },
        "id": "ximwA4sZOMT4",
        "outputId": "3373f9aa-415f-42eb-81d2-26b056d23d2b"
      },
      "source": [
        "cd drive/MyDrive"
      ],
      "execution_count": 2,
      "outputs": [
        {
          "output_type": "stream",
          "text": [
            "/content/drive/MyDrive\n"
          ],
          "name": "stdout"
        }
      ]
    },
    {
      "cell_type": "code",
      "metadata": {
        "colab": {
          "base_uri": "https://localhost:8080/"
        },
        "id": "X143_TvFOMYb",
        "outputId": "21294081-29ea-49d7-dfc0-5c37a58e8fa0"
      },
      "source": [
        "pip install -U tensorflow-addons"
      ],
      "execution_count": 4,
      "outputs": [
        {
          "output_type": "stream",
          "text": [
            "Collecting tensorflow-addons\n",
            "\u001b[?25l  Downloading https://files.pythonhosted.org/packages/74/e3/56d2fe76f0bb7c88ed9b2a6a557e25e83e252aec08f13de34369cd850a0b/tensorflow_addons-0.12.1-cp37-cp37m-manylinux2010_x86_64.whl (703kB)\n",
            "\r\u001b[K     |▌                               | 10kB 11.4MB/s eta 0:00:01\r\u001b[K     |█                               | 20kB 8.2MB/s eta 0:00:01\r\u001b[K     |█▍                              | 30kB 4.8MB/s eta 0:00:01\r\u001b[K     |█▉                              | 40kB 4.9MB/s eta 0:00:01\r\u001b[K     |██▎                             | 51kB 2.8MB/s eta 0:00:01\r\u001b[K     |██▉                             | 61kB 3.2MB/s eta 0:00:01\r\u001b[K     |███▎                            | 71kB 3.3MB/s eta 0:00:01\r\u001b[K     |███▊                            | 81kB 3.5MB/s eta 0:00:01\r\u001b[K     |████▏                           | 92kB 3.5MB/s eta 0:00:01\r\u001b[K     |████▋                           | 102kB 3.8MB/s eta 0:00:01\r\u001b[K     |█████▏                          | 112kB 3.8MB/s eta 0:00:01\r\u001b[K     |█████▋                          | 122kB 3.8MB/s eta 0:00:01\r\u001b[K     |██████                          | 133kB 3.8MB/s eta 0:00:01\r\u001b[K     |██████▌                         | 143kB 3.8MB/s eta 0:00:01\r\u001b[K     |███████                         | 153kB 3.8MB/s eta 0:00:01\r\u001b[K     |███████▌                        | 163kB 3.8MB/s eta 0:00:01\r\u001b[K     |████████                        | 174kB 3.8MB/s eta 0:00:01\r\u001b[K     |████████▍                       | 184kB 3.8MB/s eta 0:00:01\r\u001b[K     |████████▉                       | 194kB 3.8MB/s eta 0:00:01\r\u001b[K     |█████████▎                      | 204kB 3.8MB/s eta 0:00:01\r\u001b[K     |█████████▉                      | 215kB 3.8MB/s eta 0:00:01\r\u001b[K     |██████████▎                     | 225kB 3.8MB/s eta 0:00:01\r\u001b[K     |██████████▊                     | 235kB 3.8MB/s eta 0:00:01\r\u001b[K     |███████████▏                    | 245kB 3.8MB/s eta 0:00:01\r\u001b[K     |███████████▋                    | 256kB 3.8MB/s eta 0:00:01\r\u001b[K     |████████████▏                   | 266kB 3.8MB/s eta 0:00:01\r\u001b[K     |████████████▋                   | 276kB 3.8MB/s eta 0:00:01\r\u001b[K     |█████████████                   | 286kB 3.8MB/s eta 0:00:01\r\u001b[K     |█████████████▌                  | 296kB 3.8MB/s eta 0:00:01\r\u001b[K     |██████████████                  | 307kB 3.8MB/s eta 0:00:01\r\u001b[K     |██████████████▍                 | 317kB 3.8MB/s eta 0:00:01\r\u001b[K     |███████████████                 | 327kB 3.8MB/s eta 0:00:01\r\u001b[K     |███████████████▍                | 337kB 3.8MB/s eta 0:00:01\r\u001b[K     |███████████████▉                | 348kB 3.8MB/s eta 0:00:01\r\u001b[K     |████████████████▎               | 358kB 3.8MB/s eta 0:00:01\r\u001b[K     |████████████████▊               | 368kB 3.8MB/s eta 0:00:01\r\u001b[K     |█████████████████▎              | 378kB 3.8MB/s eta 0:00:01\r\u001b[K     |█████████████████▊              | 389kB 3.8MB/s eta 0:00:01\r\u001b[K     |██████████████████▏             | 399kB 3.8MB/s eta 0:00:01\r\u001b[K     |██████████████████▋             | 409kB 3.8MB/s eta 0:00:01\r\u001b[K     |███████████████████             | 419kB 3.8MB/s eta 0:00:01\r\u001b[K     |███████████████████▋            | 430kB 3.8MB/s eta 0:00:01\r\u001b[K     |████████████████████            | 440kB 3.8MB/s eta 0:00:01\r\u001b[K     |████████████████████▌           | 450kB 3.8MB/s eta 0:00:01\r\u001b[K     |█████████████████████           | 460kB 3.8MB/s eta 0:00:01\r\u001b[K     |█████████████████████▍          | 471kB 3.8MB/s eta 0:00:01\r\u001b[K     |██████████████████████          | 481kB 3.8MB/s eta 0:00:01\r\u001b[K     |██████████████████████▍         | 491kB 3.8MB/s eta 0:00:01\r\u001b[K     |██████████████████████▉         | 501kB 3.8MB/s eta 0:00:01\r\u001b[K     |███████████████████████▎        | 512kB 3.8MB/s eta 0:00:01\r\u001b[K     |███████████████████████▊        | 522kB 3.8MB/s eta 0:00:01\r\u001b[K     |████████████████████████▎       | 532kB 3.8MB/s eta 0:00:01\r\u001b[K     |████████████████████████▊       | 542kB 3.8MB/s eta 0:00:01\r\u001b[K     |█████████████████████████▏      | 552kB 3.8MB/s eta 0:00:01\r\u001b[K     |█████████████████████████▋      | 563kB 3.8MB/s eta 0:00:01\r\u001b[K     |██████████████████████████      | 573kB 3.8MB/s eta 0:00:01\r\u001b[K     |██████████████████████████▋     | 583kB 3.8MB/s eta 0:00:01\r\u001b[K     |███████████████████████████     | 593kB 3.8MB/s eta 0:00:01\r\u001b[K     |███████████████████████████▌    | 604kB 3.8MB/s eta 0:00:01\r\u001b[K     |████████████████████████████    | 614kB 3.8MB/s eta 0:00:01\r\u001b[K     |████████████████████████████▍   | 624kB 3.8MB/s eta 0:00:01\r\u001b[K     |████████████████████████████▉   | 634kB 3.8MB/s eta 0:00:01\r\u001b[K     |█████████████████████████████▍  | 645kB 3.8MB/s eta 0:00:01\r\u001b[K     |█████████████████████████████▉  | 655kB 3.8MB/s eta 0:00:01\r\u001b[K     |██████████████████████████████▎ | 665kB 3.8MB/s eta 0:00:01\r\u001b[K     |██████████████████████████████▊ | 675kB 3.8MB/s eta 0:00:01\r\u001b[K     |███████████████████████████████▏| 686kB 3.8MB/s eta 0:00:01\r\u001b[K     |███████████████████████████████▊| 696kB 3.8MB/s eta 0:00:01\r\u001b[K     |████████████████████████████████| 706kB 3.8MB/s \n",
            "\u001b[?25hRequirement already satisfied, skipping upgrade: typeguard>=2.7 in /usr/local/lib/python3.7/dist-packages (from tensorflow-addons) (2.7.1)\n",
            "Installing collected packages: tensorflow-addons\n",
            "Successfully installed tensorflow-addons-0.12.1\n"
          ],
          "name": "stdout"
        }
      ]
    },
    {
      "cell_type": "code",
      "metadata": {
        "colab": {
          "base_uri": "https://localhost:8080/"
        },
        "id": "-1F5v74WOMak",
        "outputId": "b4eaa4c9-f7e2-4491-dafe-dd114117901c"
      },
      "source": [
        "import tensorflow as tf\n",
        "\n",
        "import keras\n",
        "import keras.utils\n",
        "from keras import backend as K\n",
        "import numpy as np\n",
        "# %matplotlib inline\n",
        "import matplotlib.pyplot as plt\n",
        "print(tf.__version__)\n",
        "print(keras.__version__)\n",
        "\n",
        "import os, sys\n",
        "from IPython.display import display\n",
        "from IPython.display import Image as _Imgdis\n",
        "from PIL import Image\n",
        "\n",
        "from time import time\n",
        "from time import sleep\n",
        "from keras.preprocessing.image import ImageDataGenerator, array_to_img, img_to_array, load_img\n",
        "from sklearn.model_selection import train_test_split\n",
        "# import necessary building blocks\n",
        "from keras.models import Sequential\n",
        "from keras.layers import Dense,Conv2D,Flatten,MaxPooling2D,Activation\n",
        "from keras.layers import Dropout,Activation\n",
        "from keras.layers.advanced_activations import LeakyReLU\n",
        "import numpy as np\n",
        "from keras.models import *\n",
        "from keras.layers import BatchNormalization,Input,Conv2D,Activation\n",
        "from keras.layers import concatenate,Lambda,Subtract,Add,merge\n",
        "from keras.layers import GlobalAveragePooling1D\n",
        "\n",
        "\n",
        "import keras.backend as K\n",
        "from keras.models import load_model\n",
        "\n",
        "import pandas as pd\n",
        "import pprint\n",
        "\n",
        "# fit model\n",
        "import tensorflow_addons as tfa\n",
        "import keras.utils\n",
        "from keras.callbacks import ModelCheckpoint\n",
        "\n",
        "from numpy import loadtxt"
      ],
      "execution_count": 8,
      "outputs": [
        {
          "output_type": "stream",
          "text": [
            "2.4.1\n",
            "2.4.3\n"
          ],
          "name": "stdout"
        }
      ]
    },
    {
      "cell_type": "code",
      "metadata": {
        "colab": {
          "base_uri": "https://localhost:8080/"
        },
        "id": "Jx_ScO6dOMdB",
        "outputId": "627484bc-77cb-47e9-e9cb-b606852ef6b9"
      },
      "source": [
        "folder = \"new_train/noisy\"\n",
        "\n",
        "onlyfiles1 = [f for f in os.listdir(folder) if os.path.isfile(os.path.join(folder, f))]\n",
        "print(len(onlyfiles1))\n",
        "input_train_files=sorted(onlyfiles1)\n",
        "\n",
        "image_width=180\n",
        "image_height=180\n",
        "\n",
        "channels = 3\n",
        "\n",
        "X_train = np.ndarray(shape=(len(input_train_files),image_height, image_width,channels),\n",
        "                     dtype=np.int32)\n",
        "\n",
        "i = 0\n",
        "\n",
        "for every_file in input_train_files:\n",
        "    try:\n",
        "        # PIL image\n",
        "        img=load_img(folder+\"/\"+every_file)  \n",
        "    except :\n",
        "       print(_file)\n",
        "       continue\n",
        "    #print(img)\n",
        "    \n",
        "    # Convert to Numpy Array\n",
        "    x = img_to_array(img)  \n",
        "    x = x.reshape((180, 180,3)).astype(int)\n",
        "    \n",
        "    \n",
        "    X_train[i] = x\n",
        "    i += 1\n",
        "    if i % 250 == 0:\n",
        "        print(\"%d images to array\" % i)\n",
        "    \n",
        "print(\"All images to array!\")\n",
        "\n",
        "folder = \"new_train/color\"\n",
        "\n",
        "onlyfiles2 = [f for f in os.listdir(folder) if os.path.isfile(os.path.join(folder, f))]\n",
        "\n",
        "output_train_files=sorted(onlyfiles2)\n",
        "print(len(output_train_files))\n",
        "\n",
        "image_width=180\n",
        "image_height=180\n",
        "\n",
        "channels = 3\n",
        "\n",
        "y_train = np.ndarray(shape=(len(output_train_files),image_height, image_width,channels),\n",
        "                     dtype=np.int32)\n",
        "\n",
        "i = 0\n",
        "\n",
        "for _file in output_train_files:\n",
        "    \n",
        "    # PIL image \n",
        "    img=load_img(folder+\"/\"+every_file)  \n",
        "    \n",
        "    # Convert to Numpy Array\n",
        "    x = img_to_array(img)  \n",
        "    x = x.reshape((180, 180,3)).astype(int)\n",
        "    \n",
        "    \n",
        "    y_train[i] = x\n",
        "    i += 1\n",
        "    if i % 250 == 0:\n",
        "        print(\"%d images to array\" % i)\n",
        "    \n",
        "print(\"All images to array!\")"
      ],
      "execution_count": 9,
      "outputs": [
        {
          "output_type": "stream",
          "text": [
            "5544\n",
            "250 images to array\n",
            "500 images to array\n",
            "750 images to array\n",
            "1000 images to array\n",
            "1250 images to array\n",
            "1500 images to array\n",
            "1750 images to array\n",
            "2000 images to array\n",
            "2250 images to array\n",
            "2500 images to array\n",
            "2750 images to array\n",
            "3000 images to array\n",
            "3250 images to array\n",
            "3500 images to array\n",
            "3750 images to array\n",
            "4000 images to array\n",
            "4250 images to array\n",
            "4500 images to array\n",
            "4750 images to array\n",
            "5000 images to array\n",
            "5250 images to array\n",
            "5500 images to array\n",
            "All images to array!\n",
            "5544\n",
            "250 images to array\n",
            "500 images to array\n",
            "750 images to array\n",
            "1000 images to array\n",
            "1250 images to array\n",
            "1500 images to array\n",
            "1750 images to array\n",
            "2000 images to array\n",
            "2250 images to array\n",
            "2500 images to array\n",
            "2750 images to array\n",
            "3000 images to array\n",
            "3250 images to array\n",
            "3500 images to array\n",
            "3750 images to array\n",
            "4000 images to array\n",
            "4250 images to array\n",
            "4500 images to array\n",
            "4750 images to array\n",
            "5000 images to array\n",
            "5250 images to array\n",
            "5500 images to array\n",
            "All images to array!\n"
          ],
          "name": "stdout"
        }
      ]
    },
    {
      "cell_type": "code",
      "metadata": {
        "colab": {
          "base_uri": "https://localhost:8080/"
        },
        "id": "qJRjSTloOMfj",
        "outputId": "f1774447-e841-4f6b-8292-63a30f7c4959"
      },
      "source": [
        "cd finalsigma"
      ],
      "execution_count": 10,
      "outputs": [
        {
          "output_type": "stream",
          "text": [
            "/content/drive/My Drive/finalsigma\n"
          ],
          "name": "stdout"
        }
      ]
    },
    {
      "cell_type": "code",
      "metadata": {
        "colab": {
          "base_uri": "https://localhost:8080/"
        },
        "id": "YoYAPjyyOMhp",
        "outputId": "c1fccd74-64f9-48bd-a04f-4ab2802df656"
      },
      "source": [
        "X_train.shape"
      ],
      "execution_count": 11,
      "outputs": [
        {
          "output_type": "execute_result",
          "data": {
            "text/plain": [
              "(5544, 180, 180, 3)"
            ]
          },
          "metadata": {
            "tags": []
          },
          "execution_count": 11
        }
      ]
    },
    {
      "cell_type": "code",
      "metadata": {
        "colab": {
          "base_uri": "https://localhost:8080/"
        },
        "id": "aPG6pvfwOMkJ",
        "outputId": "90fc812d-cdb9-49d6-fb42-45dfe3eb0d5c"
      },
      "source": [
        "y_train.shape"
      ],
      "execution_count": 12,
      "outputs": [
        {
          "output_type": "execute_result",
          "data": {
            "text/plain": [
              "(5544, 180, 180, 3)"
            ]
          },
          "metadata": {
            "tags": []
          },
          "execution_count": 12
        }
      ]
    },
    {
      "cell_type": "code",
      "metadata": {
        "id": "guBoAyezOMmB"
      },
      "source": [
        "X_train,X_val,y_train,y_val=train_test_split(X_train,y_train,test_size=0.1)"
      ],
      "execution_count": 13,
      "outputs": []
    },
    {
      "cell_type": "code",
      "metadata": {
        "colab": {
          "base_uri": "https://localhost:8080/"
        },
        "id": "eDGEiPAGOMof",
        "outputId": "0387b14f-da95-4ede-8626-abfa4a388e97"
      },
      "source": [
        "X_train.shape"
      ],
      "execution_count": 14,
      "outputs": [
        {
          "output_type": "execute_result",
          "data": {
            "text/plain": [
              "(4989, 180, 180, 3)"
            ]
          },
          "metadata": {
            "tags": []
          },
          "execution_count": 14
        }
      ]
    },
    {
      "cell_type": "code",
      "metadata": {
        "id": "64QbNJDdOMqq"
      },
      "source": [
        "def ProposedNet():\n",
        "  inpt=Input(shape=(180,180,3))\n",
        "  x=Conv2D(filters=64,kernel_size=(3,3),strides=(1,1),padding='same')(inpt)\n",
        "  x=BatchNormalization(axis=-1,epsilon=1e-3)(x)\n",
        "  x=Activation('relu')(x)\n",
        "  for i in range(7):\n",
        "    x=Conv2D(filters=64,kernel_size=(3,3),strides=(1,1),padding='same')(x)\n",
        "    x=BatchNormalization(axis=-1,epsilon=1e-3)(x)\n",
        "    x=Activation('relu')(x) \n",
        "\n",
        "  x=Conv2D(filters=3,kernel_size=(3,3),strides=(1,1),padding='same')(x)\n",
        "  x=Subtract()([inpt,x])\n",
        "  y=Conv2D(filters=64,kernel_size=(3,3),strides=(1,1),padding='same')(inpt)\n",
        "  y=BatchNormalization(axis=-1,epsilon=1e-3)(y)\n",
        "  y=Activation('relu')(y)\n",
        "  for i in range(7):\n",
        "    y=Conv2D(filters=64,kernel_size=(3,3),strides=(1,1),dilation_rate=(2,2),padding='same')(y)\n",
        "    y=Activation('relu')(y) \n",
        "  y=Conv2D(filters=64, kernel_size=(3,3), strides=(1,1), padding='same')(y)\n",
        "  y=BatchNormalization(axis=-1, epsilon=1e-3)(y)\n",
        "  y=Activation('relu')(y) \n",
        "\n",
        "  y = Conv2D(filters=3, kernel_size=(3,3), strides=(1,1), padding='same')(y)#gray is 1 color is 3\n",
        "  y = Subtract()([inpt, y])   # input - noise\n",
        "  o = concatenate([x,y],axis=-1)\n",
        "  z = Conv2D(filters=3, kernel_size=(3,3), strides=(1,1), padding='same')(o)#gray is 1 color is 3\n",
        "  z=  Subtract()([inpt, z])\n",
        "  print(z.shape)\n",
        "  model = Model(inpt, outputs=z)\n",
        "  return model"
      ],
      "execution_count": 15,
      "outputs": []
    },
    {
      "cell_type": "code",
      "metadata": {
        "colab": {
          "base_uri": "https://localhost:8080/"
        },
        "id": "VqJpxTa9OMs7",
        "outputId": "e5be7b6f-f601-4a9c-bf31-1fc6cf3aa4ae"
      },
      "source": [
        "model = ProposedNet()\n",
        "model.summary()"
      ],
      "execution_count": 16,
      "outputs": [
        {
          "output_type": "stream",
          "text": [
            "(None, 180, 180, 3)\n",
            "Model: \"model\"\n",
            "__________________________________________________________________________________________________\n",
            "Layer (type)                    Output Shape         Param #     Connected to                     \n",
            "==================================================================================================\n",
            "input_1 (InputLayer)            [(None, 180, 180, 3) 0                                            \n",
            "__________________________________________________________________________________________________\n",
            "conv2d (Conv2D)                 (None, 180, 180, 64) 1792        input_1[0][0]                    \n",
            "__________________________________________________________________________________________________\n",
            "batch_normalization (BatchNorma (None, 180, 180, 64) 256         conv2d[0][0]                     \n",
            "__________________________________________________________________________________________________\n",
            "activation (Activation)         (None, 180, 180, 64) 0           batch_normalization[0][0]        \n",
            "__________________________________________________________________________________________________\n",
            "conv2d_1 (Conv2D)               (None, 180, 180, 64) 36928       activation[0][0]                 \n",
            "__________________________________________________________________________________________________\n",
            "batch_normalization_1 (BatchNor (None, 180, 180, 64) 256         conv2d_1[0][0]                   \n",
            "__________________________________________________________________________________________________\n",
            "conv2d_9 (Conv2D)               (None, 180, 180, 64) 1792        input_1[0][0]                    \n",
            "__________________________________________________________________________________________________\n",
            "activation_1 (Activation)       (None, 180, 180, 64) 0           batch_normalization_1[0][0]      \n",
            "__________________________________________________________________________________________________\n",
            "batch_normalization_8 (BatchNor (None, 180, 180, 64) 256         conv2d_9[0][0]                   \n",
            "__________________________________________________________________________________________________\n",
            "conv2d_2 (Conv2D)               (None, 180, 180, 64) 36928       activation_1[0][0]               \n",
            "__________________________________________________________________________________________________\n",
            "activation_8 (Activation)       (None, 180, 180, 64) 0           batch_normalization_8[0][0]      \n",
            "__________________________________________________________________________________________________\n",
            "batch_normalization_2 (BatchNor (None, 180, 180, 64) 256         conv2d_2[0][0]                   \n",
            "__________________________________________________________________________________________________\n",
            "conv2d_10 (Conv2D)              (None, 180, 180, 64) 36928       activation_8[0][0]               \n",
            "__________________________________________________________________________________________________\n",
            "activation_2 (Activation)       (None, 180, 180, 64) 0           batch_normalization_2[0][0]      \n",
            "__________________________________________________________________________________________________\n",
            "activation_9 (Activation)       (None, 180, 180, 64) 0           conv2d_10[0][0]                  \n",
            "__________________________________________________________________________________________________\n",
            "conv2d_3 (Conv2D)               (None, 180, 180, 64) 36928       activation_2[0][0]               \n",
            "__________________________________________________________________________________________________\n",
            "conv2d_11 (Conv2D)              (None, 180, 180, 64) 36928       activation_9[0][0]               \n",
            "__________________________________________________________________________________________________\n",
            "batch_normalization_3 (BatchNor (None, 180, 180, 64) 256         conv2d_3[0][0]                   \n",
            "__________________________________________________________________________________________________\n",
            "activation_10 (Activation)      (None, 180, 180, 64) 0           conv2d_11[0][0]                  \n",
            "__________________________________________________________________________________________________\n",
            "activation_3 (Activation)       (None, 180, 180, 64) 0           batch_normalization_3[0][0]      \n",
            "__________________________________________________________________________________________________\n",
            "conv2d_12 (Conv2D)              (None, 180, 180, 64) 36928       activation_10[0][0]              \n",
            "__________________________________________________________________________________________________\n",
            "conv2d_4 (Conv2D)               (None, 180, 180, 64) 36928       activation_3[0][0]               \n",
            "__________________________________________________________________________________________________\n",
            "activation_11 (Activation)      (None, 180, 180, 64) 0           conv2d_12[0][0]                  \n",
            "__________________________________________________________________________________________________\n",
            "batch_normalization_4 (BatchNor (None, 180, 180, 64) 256         conv2d_4[0][0]                   \n",
            "__________________________________________________________________________________________________\n",
            "conv2d_13 (Conv2D)              (None, 180, 180, 64) 36928       activation_11[0][0]              \n",
            "__________________________________________________________________________________________________\n",
            "activation_4 (Activation)       (None, 180, 180, 64) 0           batch_normalization_4[0][0]      \n",
            "__________________________________________________________________________________________________\n",
            "activation_12 (Activation)      (None, 180, 180, 64) 0           conv2d_13[0][0]                  \n",
            "__________________________________________________________________________________________________\n",
            "conv2d_5 (Conv2D)               (None, 180, 180, 64) 36928       activation_4[0][0]               \n",
            "__________________________________________________________________________________________________\n",
            "conv2d_14 (Conv2D)              (None, 180, 180, 64) 36928       activation_12[0][0]              \n",
            "__________________________________________________________________________________________________\n",
            "batch_normalization_5 (BatchNor (None, 180, 180, 64) 256         conv2d_5[0][0]                   \n",
            "__________________________________________________________________________________________________\n",
            "activation_13 (Activation)      (None, 180, 180, 64) 0           conv2d_14[0][0]                  \n",
            "__________________________________________________________________________________________________\n",
            "activation_5 (Activation)       (None, 180, 180, 64) 0           batch_normalization_5[0][0]      \n",
            "__________________________________________________________________________________________________\n",
            "conv2d_15 (Conv2D)              (None, 180, 180, 64) 36928       activation_13[0][0]              \n",
            "__________________________________________________________________________________________________\n",
            "conv2d_6 (Conv2D)               (None, 180, 180, 64) 36928       activation_5[0][0]               \n",
            "__________________________________________________________________________________________________\n",
            "activation_14 (Activation)      (None, 180, 180, 64) 0           conv2d_15[0][0]                  \n",
            "__________________________________________________________________________________________________\n",
            "batch_normalization_6 (BatchNor (None, 180, 180, 64) 256         conv2d_6[0][0]                   \n",
            "__________________________________________________________________________________________________\n",
            "conv2d_16 (Conv2D)              (None, 180, 180, 64) 36928       activation_14[0][0]              \n",
            "__________________________________________________________________________________________________\n",
            "activation_6 (Activation)       (None, 180, 180, 64) 0           batch_normalization_6[0][0]      \n",
            "__________________________________________________________________________________________________\n",
            "activation_15 (Activation)      (None, 180, 180, 64) 0           conv2d_16[0][0]                  \n",
            "__________________________________________________________________________________________________\n",
            "conv2d_7 (Conv2D)               (None, 180, 180, 64) 36928       activation_6[0][0]               \n",
            "__________________________________________________________________________________________________\n",
            "conv2d_17 (Conv2D)              (None, 180, 180, 64) 36928       activation_15[0][0]              \n",
            "__________________________________________________________________________________________________\n",
            "batch_normalization_7 (BatchNor (None, 180, 180, 64) 256         conv2d_7[0][0]                   \n",
            "__________________________________________________________________________________________________\n",
            "batch_normalization_9 (BatchNor (None, 180, 180, 64) 256         conv2d_17[0][0]                  \n",
            "__________________________________________________________________________________________________\n",
            "activation_7 (Activation)       (None, 180, 180, 64) 0           batch_normalization_7[0][0]      \n",
            "__________________________________________________________________________________________________\n",
            "activation_16 (Activation)      (None, 180, 180, 64) 0           batch_normalization_9[0][0]      \n",
            "__________________________________________________________________________________________________\n",
            "conv2d_8 (Conv2D)               (None, 180, 180, 3)  1731        activation_7[0][0]               \n",
            "__________________________________________________________________________________________________\n",
            "conv2d_18 (Conv2D)              (None, 180, 180, 3)  1731        activation_16[0][0]              \n",
            "__________________________________________________________________________________________________\n",
            "subtract (Subtract)             (None, 180, 180, 3)  0           input_1[0][0]                    \n",
            "                                                                 conv2d_8[0][0]                   \n",
            "__________________________________________________________________________________________________\n",
            "subtract_1 (Subtract)           (None, 180, 180, 3)  0           input_1[0][0]                    \n",
            "                                                                 conv2d_18[0][0]                  \n",
            "__________________________________________________________________________________________________\n",
            "concatenate (Concatenate)       (None, 180, 180, 6)  0           subtract[0][0]                   \n",
            "                                                                 subtract_1[0][0]                 \n",
            "__________________________________________________________________________________________________\n",
            "conv2d_19 (Conv2D)              (None, 180, 180, 3)  165         concatenate[0][0]                \n",
            "__________________________________________________________________________________________________\n",
            "subtract_2 (Subtract)           (None, 180, 180, 3)  0           input_1[0][0]                    \n",
            "                                                                 conv2d_19[0][0]                  \n",
            "==================================================================================================\n",
            "Total params: 563,691\n",
            "Trainable params: 562,411\n",
            "Non-trainable params: 1,280\n",
            "__________________________________________________________________________________________________\n"
          ],
          "name": "stdout"
        }
      ]
    },
    {
      "cell_type": "code",
      "metadata": {
        "id": "n1-6EBzHOMwc"
      },
      "source": [
        "INIT_LR = 1e-3  # initial learning rate\n",
        "BATCH_SIZE = 20\n",
        "EPOCHS = 50\n",
        "\n",
        "def PSNR(y_true, y_pred):\n",
        "    max_pixel = 255.0\n",
        "    return tf.image.psnr(y_true,y_pred,max_val=max_pixel)\n",
        "\n",
        "# prepare model for fitting (loss, optimizer, etc)\n",
        "model.compile(\n",
        "    loss='mse',  # we train 10-way classification\n",
        "    optimizer=keras.optimizers.Adamax(lr=INIT_LR),  # for SGD\n",
        "     metrics=[PSNR]# report accuracy during training\n",
        ")\n",
        "\n",
        "# scheduler of learning rate (decay with epochs)\n",
        "def step_decay(epoch):\n",
        "    \n",
        "    initial_lr = INIT_LR\n",
        "    if epoch<30:   \n",
        "        lr= initial_lr\n",
        "    else:\n",
        "        lr = initial_lr/10\n",
        "    \n",
        "    return lr\n",
        "\n",
        "# callback for printing of actual learning rate used by optimizer\n",
        "class LrHistory(keras.callbacks.Callback):\n",
        "    def on_epoch_begin(self, epoch, logs={}):\n",
        "        print(\"Learning rate:\", K.get_value(model.optimizer.lr))\n",
        "\n",
        "filepath=\"weights-improvement-{epoch:02d}.hdf5\"\n",
        "last_finished_epoch = None\n",
        "\n",
        "last_finished_epoch = 43  \n",
        "model.load_weights(filepath.format(epoch=last_finished_epoch))\n",
        "\n",
        "\n"
      ],
      "execution_count": 17,
      "outputs": []
    },
    {
      "cell_type": "code",
      "metadata": {
        "id": "WUwXas1TQp98"
      },
      "source": [
        "checkpoint = ModelCheckpoint(filepath, monitor='val_PSNR', verbose=1, save_best_only=True, mode='max')\n",
        "last_finished_epoch=None\n",
        "\n",
        "history=model.fit(\n",
        "    X_train, y_train,  # prepared data\n",
        "    batch_size=BATCH_SIZE,\n",
        "    epochs=EPOCHS,\n",
        "    callbacks=[keras.callbacks.LearningRateScheduler(step_decay), \n",
        "               LrHistory(), \n",
        "               tfa.callbacks.TQDMProgressBar(),\n",
        "               checkpoint\n",
        "               ],\n",
        "    validation_data=(X_val, y_val),\n",
        "    shuffle=True,\n",
        "    verbose=0,\n",
        "    initial_epoch=0\n",
        "   )\n",
        "model.save(\"model.h5\")\n",
        "print(\"Saved model to disk\")\n",
        "history_df=pd.DataFrame(history.history)\n",
        "history_df.to_csv('History2.csv')"
      ],
      "execution_count": null,
      "outputs": []
    },
    {
      "cell_type": "code",
      "metadata": {
        "colab": {
          "base_uri": "https://localhost:8080/",
          "height": 282
        },
        "id": "QcDjq2u0PJSz",
        "outputId": "e3c3f97a-7bfe-4045-cb55-ee2406ab8078"
      },
      "source": [
        "history_df=pd.read_csv('History2.csv')\n",
        "history_df.loc[:,['loss','val_loss']].plot()"
      ],
      "execution_count": 18,
      "outputs": [
        {
          "output_type": "execute_result",
          "data": {
            "text/plain": [
              "<matplotlib.axes._subplots.AxesSubplot at 0x7f0f922a69d0>"
            ]
          },
          "metadata": {
            "tags": []
          },
          "execution_count": 18
        },
        {
          "output_type": "display_data",
          "data": {
            "image/png": "[encoded data removed]",
            "text/plain": [
              "<Figure size 432x288 with 1 Axes>"
            ]
          },
          "metadata": {
            "tags": [],
            "needs_background": "light"
          }
        }
      ]
    },
    {
      "cell_type": "code",
      "metadata": {
        "colab": {
          "base_uri": "https://localhost:8080/",
          "height": 386
        },
        "id": "TJND8L2iPNPB",
        "outputId": "35ab76b0-975f-47ef-f2aa-0e04bcca153d"
      },
      "source": [
        "print(history_df.head())\n",
        "history_df.loc[:,['PSNR','val_PSNR']].plot()"
      ],
      "execution_count": 19,
      "outputs": [
        {
          "output_type": "stream",
          "text": [
            "   Unnamed: 0         loss       PSNR     val_loss   val_PSNR     lr\n",
            "0           0  1992.238281  16.723698  1108.817871  18.867228  0.001\n",
            "1           1   877.584167  19.948898   595.772339  21.566544  0.001\n",
            "2           2   517.052917  22.230173   404.320648  23.357613  0.001\n",
            "3           3   339.039825  24.075659   252.533386  25.486250  0.001\n",
            "4           4   244.213577  25.506668   207.017776  26.216522  0.001\n"
          ],
          "name": "stdout"
        },
        {
          "output_type": "execute_result",
          "data": {
            "text/plain": [
              "<matplotlib.axes._subplots.AxesSubplot at 0x7f0f92095250>"
            ]
          },
          "metadata": {
            "tags": []
          },
          "execution_count": 19
        },
        {
          "output_type": "display_data",
          "data": {
            "image/png": "[encoded data removed]",
            "text/plain": [
              "<Figure size 432x288 with 1 Axes>"
            ]
          },
          "metadata": {
            "tags": [],
            "needs_background": "light"
          }
        }
      ]
    }
  ]
}